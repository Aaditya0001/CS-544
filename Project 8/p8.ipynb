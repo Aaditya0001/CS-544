{
 "cells": [
  {
   "cell_type": "code",
   "execution_count": 1,
   "id": "beb1a2e4-2acf-453e-9db2-6269541d71a5",
   "metadata": {},
   "outputs": [],
   "source": [
    "import os\n",
    "\n",
    "os.environ[\"GOOGLE_CLOUD_PROJECT\"] = \"maximal-park-424812-p9\""
   ]
  },
  {
   "cell_type": "code",
   "execution_count": 2,
   "id": "c5c42218-c274-4a75-9d26-bf33a7d1f547",
   "metadata": {},
   "outputs": [],
   "source": [
    "from google.cloud import bigquery\n",
    "bq = bigquery.Client()"
   ]
  },
  {
   "cell_type": "code",
   "execution_count": 3,
   "id": "eb45666a-7672-49ab-91d2-8ab30a615fe4",
   "metadata": {},
   "outputs": [
    {
     "name": "stderr",
     "output_type": "stream",
     "text": [
      "/home/macbook/p8_ajmehta_bkumar5/venv/lib/python3.12/site-packages/google/cloud/bigquery/__init__.py:237: FutureWarning: %load_ext google.cloud.bigquery is deprecated. Install bigquery-magics package and use `%load_ext bigquery_magics`, instead.\n",
      "  warnings.warn(\n"
     ]
    }
   ],
   "source": [
    "%load_ext google.cloud.bigquery"
   ]
  },
  {
   "cell_type": "code",
   "execution_count": 4,
   "id": "46c8ede2-c073-40f0-81f4-552ac1754053",
   "metadata": {},
   "outputs": [
    {
     "data": {
      "application/vnd.jupyter.widget-view+json": {
       "model_id": "f073af44781c4e8fb5410eef31a1b072",
       "version_major": 2,
       "version_minor": 0
      },
      "text/plain": [
       "Query is running:   0%|          |"
      ]
     },
     "metadata": {},
     "output_type": "display_data"
    },
    {
     "data": {
      "application/vnd.jupyter.widget-view+json": {
       "model_id": "0e388ceee91042ff8ebd55286c756373",
       "version_major": 2,
       "version_minor": 0
      },
      "text/plain": [
       "Downloading:   0%|          |"
      ]
     },
     "metadata": {},
     "output_type": "display_data"
    }
   ],
   "source": [
    "%%bigquery geo_id_one  --project=maximal-park-424812-p9\n",
    "SELECT geo_id \n",
    "FROM `bigquery-public-data.geo_us_boundaries.counties`\n",
    "WHERE county_name = \"Dane\""
   ]
  },
  {
   "cell_type": "code",
   "execution_count": 5,
   "id": "e558b9c3-e23f-4324-a864-d02c2d112202",
   "metadata": {},
   "outputs": [
    {
     "data": {
      "text/plain": [
       "'55025'"
      ]
     },
     "execution_count": 5,
     "metadata": {},
     "output_type": "execute_result"
    }
   ],
   "source": [
    "#q1\n",
    "geo_id_one.iloc[0]['geo_id']"
   ]
  },
  {
   "cell_type": "code",
   "execution_count": 6,
   "id": "9ae37ac6-a46b-4721-bab4-3f2b4f86cef0",
   "metadata": {},
   "outputs": [
    {
     "data": {
      "application/vnd.jupyter.widget-view+json": {
       "model_id": "ebcf8f34f230498e806edfc05e668dfa",
       "version_major": 2,
       "version_minor": 0
      },
      "text/plain": [
       "Query is running:   0%|          |"
      ]
     },
     "metadata": {},
     "output_type": "display_data"
    },
    {
     "data": {
      "application/vnd.jupyter.widget-view+json": {
       "model_id": "eac537dd74bd4107b6aa0d446e273ea0",
       "version_major": 2,
       "version_minor": 0
      },
      "text/plain": [
       "Downloading:   0%|          |"
      ]
     },
     "metadata": {},
     "output_type": "display_data"
    }
   ],
   "source": [
    "%%bigquery counties_per_state --project=maximal-park-424812-p9\n",
    "SELECT state_fips_code, COUNT(DISTINCT geo_id) AS num_counties\n",
    "FROM `bigquery-public-data.geo_us_boundaries.counties`\n",
    "GROUP BY state_fips_code\n",
    "ORDER BY num_counties DESC\n",
    "LIMIT 5\n",
    "\n"
   ]
  },
  {
   "cell_type": "code",
   "execution_count": 7,
   "id": "0d917d90-6fdb-4af4-808d-1b96280251ee",
   "metadata": {},
   "outputs": [
    {
     "data": {
      "text/plain": [
       "{'48': 254, '13': 159, '51': 133, '21': 120, '29': 115}"
      ]
     },
     "execution_count": 7,
     "metadata": {},
     "output_type": "execute_result"
    }
   ],
   "source": [
    "#q2\n",
    "# Convert np.int64 to Python int\n",
    "counties_dict = {k: int(v) for k, v in zip(counties_per_state['state_fips_code'], counties_per_state['num_counties'])}\n",
    "counties_dict\n"
   ]
  },
  {
   "cell_type": "code",
   "execution_count": 8,
   "id": "fcdc3de9-81ef-4227-9be6-55e275a36b28",
   "metadata": {},
   "outputs": [
    {
     "data": {
      "text/html": [
       "<div>\n",
       "<style scoped>\n",
       "    .dataframe tbody tr th:only-of-type {\n",
       "        vertical-align: middle;\n",
       "    }\n",
       "\n",
       "    .dataframe tbody tr th {\n",
       "        vertical-align: top;\n",
       "    }\n",
       "\n",
       "    .dataframe thead th {\n",
       "        text-align: right;\n",
       "    }\n",
       "</style>\n",
       "<table border=\"1\" class=\"dataframe\">\n",
       "  <thead>\n",
       "    <tr style=\"text-align: right;\">\n",
       "      <th></th>\n",
       "      <th>geo_id</th>\n",
       "    </tr>\n",
       "  </thead>\n",
       "  <tbody>\n",
       "    <tr>\n",
       "      <th>0</th>\n",
       "      <td>55025</td>\n",
       "    </tr>\n",
       "  </tbody>\n",
       "</table>\n",
       "</div>"
      ],
      "text/plain": [
       "  geo_id\n",
       "0  55025"
      ]
     },
     "execution_count": 8,
     "metadata": {},
     "output_type": "execute_result"
    }
   ],
   "source": [
    "no_cache = bigquery.QueryJobConfig(use_query_cache=False)\n",
    "q1 = bq.query(\"\"\"\n",
    "SELECT geo_id \n",
    "FROM `bigquery-public-data.geo_us_boundaries.counties`\n",
    "WHERE county_name = \"Dane\"\n",
    "\"\"\", job_config=no_cache)\n",
    "df = q1.to_dataframe()\n",
    "df"
   ]
  },
  {
   "cell_type": "code",
   "execution_count": 9,
   "id": "0f42eadc-a8ca-4677-9447-1ed6e0f0c841",
   "metadata": {},
   "outputs": [],
   "source": [
    "q1_result_mb = q1.total_bytes_billed / 1024**2 # MB\n",
    "q1_result = f\"{int(q1_result_mb)} MB\""
   ]
  },
  {
   "cell_type": "code",
   "execution_count": 10,
   "id": "162a8a32-7e4a-4199-91ee-70b680b134a1",
   "metadata": {},
   "outputs": [
    {
     "data": {
      "text/html": [
       "<div>\n",
       "<style scoped>\n",
       "    .dataframe tbody tr th:only-of-type {\n",
       "        vertical-align: middle;\n",
       "    }\n",
       "\n",
       "    .dataframe tbody tr th {\n",
       "        vertical-align: top;\n",
       "    }\n",
       "\n",
       "    .dataframe thead th {\n",
       "        text-align: right;\n",
       "    }\n",
       "</style>\n",
       "<table border=\"1\" class=\"dataframe\">\n",
       "  <thead>\n",
       "    <tr style=\"text-align: right;\">\n",
       "      <th></th>\n",
       "      <th>state_fips_code</th>\n",
       "      <th>num_counties</th>\n",
       "    </tr>\n",
       "  </thead>\n",
       "  <tbody>\n",
       "    <tr>\n",
       "      <th>0</th>\n",
       "      <td>48</td>\n",
       "      <td>254</td>\n",
       "    </tr>\n",
       "    <tr>\n",
       "      <th>1</th>\n",
       "      <td>13</td>\n",
       "      <td>159</td>\n",
       "    </tr>\n",
       "    <tr>\n",
       "      <th>2</th>\n",
       "      <td>51</td>\n",
       "      <td>133</td>\n",
       "    </tr>\n",
       "    <tr>\n",
       "      <th>3</th>\n",
       "      <td>21</td>\n",
       "      <td>120</td>\n",
       "    </tr>\n",
       "    <tr>\n",
       "      <th>4</th>\n",
       "      <td>29</td>\n",
       "      <td>115</td>\n",
       "    </tr>\n",
       "  </tbody>\n",
       "</table>\n",
       "</div>"
      ],
      "text/plain": [
       "  state_fips_code  num_counties\n",
       "0              48           254\n",
       "1              13           159\n",
       "2              51           133\n",
       "3              21           120\n",
       "4              29           115"
      ]
     },
     "execution_count": 10,
     "metadata": {},
     "output_type": "execute_result"
    }
   ],
   "source": [
    "no_cache = bigquery.QueryJobConfig(use_query_cache=False)\n",
    "q2 = bq.query(\"\"\"\n",
    "SELECT state_fips_code, COUNT(DISTINCT geo_id) AS num_counties\n",
    "FROM `bigquery-public-data.geo_us_boundaries.counties`\n",
    "GROUP BY state_fips_code\n",
    "ORDER BY num_counties DESC\n",
    "LIMIT 5\n",
    "\"\"\", job_config=no_cache)\n",
    "df = q2.to_dataframe()\n",
    "df"
   ]
  },
  {
   "cell_type": "code",
   "execution_count": 11,
   "id": "0b476989-3f08-43f5-b834-dd31aa762749",
   "metadata": {},
   "outputs": [],
   "source": [
    "q2_result_mb = q2.total_bytes_billed / 1024**2  # MB\n",
    "q2_result = f\"{int(q2_result_mb)} MB\"  # Convert to integer and format"
   ]
  },
  {
   "cell_type": "code",
   "execution_count": 12,
   "id": "fd91d096-e3f5-413a-be2e-d0ff1108f8da",
   "metadata": {},
   "outputs": [
    {
     "data": {
      "text/plain": [
       "{'q1': '10 MB', 'q2': '10 MB'}"
      ]
     },
     "execution_count": 12,
     "metadata": {},
     "output_type": "execute_result"
    }
   ],
   "source": [
    "#q3\n",
    "result = {\n",
    "    \"q1\": q1_result,\n",
    "    \"q2\": q2_result\n",
    "}\n",
    "\n",
    "result"
   ]
  },
  {
   "cell_type": "code",
   "execution_count": 13,
   "id": "5b341a4f-b711-4d51-9181-183b2f5437a6",
   "metadata": {},
   "outputs": [],
   "source": [
    "project = \"maximal-park-424812-p9\" "
   ]
  },
  {
   "cell_type": "code",
   "execution_count": 14,
   "id": "9591db99-af90-4575-9aae-c4b97880d1f5",
   "metadata": {},
   "outputs": [
    {
     "data": {
      "text/plain": [
       "Dataset(DatasetReference('maximal-park-424812-p9', 'p8'))"
      ]
     },
     "execution_count": 14,
     "metadata": {},
     "output_type": "execute_result"
    }
   ],
   "source": [
    "ds = bigquery.Dataset(f\"{project}.p8\")\n",
    "bq.create_dataset(ds, exists_ok=True)"
   ]
  },
  {
   "cell_type": "code",
   "execution_count": 15,
   "id": "d1053894-f5a5-49ce-a129-8a170a9f01ee",
   "metadata": {},
   "outputs": [
    {
     "data": {
      "text/plain": [
       "LoadJob<project=maximal-park-424812-p9, location=US, id=f86af430-c2f9-497d-9934-1a0cd41675ff>"
      ]
     },
     "execution_count": 15,
     "metadata": {},
     "output_type": "execute_result"
    }
   ],
   "source": [
    "config = bigquery.LoadJobConfig(source_format=\"PARQUET\", write_disposition=\"WRITE_TRUNCATE\")\n",
    "source = \"https://storage.cloud.google.com/cs544_p8_ajmehta_bkumar5/hdma-wi-2021.parquet\"\n",
    "dataset = \"p8\"\n",
    "job = bq.load_table_from_uri(source, f\"{project}.{dataset}.hdma\", job_config=config)\n",
    "job.result()\n"
   ]
  },
  {
   "cell_type": "code",
   "execution_count": 16,
   "id": "98f6cf13-736a-4e62-8115-abec2bcd7a63",
   "metadata": {},
   "outputs": [
    {
     "data": {
      "text/plain": [
       "['p8']"
      ]
     },
     "execution_count": 16,
     "metadata": {},
     "output_type": "execute_result"
    }
   ],
   "source": [
    "#q4\n",
    "[ds.dataset_id for ds in bq.list_datasets(project)]"
   ]
  },
  {
   "cell_type": "code",
   "execution_count": 17,
   "id": "797c7002-5581-4c3a-b9bf-e9908cc0b875",
   "metadata": {},
   "outputs": [
    {
     "data": {
      "application/vnd.jupyter.widget-view+json": {
       "model_id": "d4f46dd65d2b4ba2b5075d36cc3b3a65",
       "version_major": 2,
       "version_minor": 0
      },
      "text/plain": [
       "Query is running:   0%|          |"
      ]
     },
     "metadata": {},
     "output_type": "display_data"
    },
    {
     "data": {
      "application/vnd.jupyter.widget-view+json": {
       "model_id": "0cf655128ea942d0a86df73155a8e6dd",
       "version_major": 2,
       "version_minor": 0
      },
      "text/plain": [
       "Downloading:   0%|          |"
      ]
     },
     "metadata": {},
     "output_type": "display_data"
    }
   ],
   "source": [
    "%%bigquery loans_df\n",
    "SELECT c.county_name, COUNT(h.action_taken) AS loan_count\n",
    "FROM p8.hdma h\n",
    "JOIN bigquery-public-data.geo_us_boundaries.counties c\n",
    "ON h.county_code = c.county_fips_code\n",
    "GROUP BY c.county_name\n",
    "ORDER BY loan_count DESC\n",
    "LIMIT 10"
   ]
  },
  {
   "cell_type": "code",
   "execution_count": 18,
   "id": "3e57fe24-b9a7-4cae-b8ec-7e36671d8c3c",
   "metadata": {},
   "outputs": [
    {
     "data": {
      "text/plain": [
       "{'Milwaukee': 46570,\n",
       " 'Dane': 38557,\n",
       " 'Waukesha': 34159,\n",
       " 'Brown': 15615,\n",
       " 'Racine': 13007,\n",
       " 'Outagamie': 11523,\n",
       " 'Kenosha': 10744,\n",
       " 'Washington': 10726,\n",
       " 'Rock': 9834,\n",
       " 'Winnebago': 9310}"
      ]
     },
     "execution_count": 18,
     "metadata": {},
     "output_type": "execute_result"
    }
   ],
   "source": [
    "#q5\n",
    "dict_list = loans_df.to_dict(orient='records')\n",
    "\n",
    "loans_dict = {}\n",
    "\n",
    "for entry in dict_list:\n",
    "    loans_dict[entry['county_name']] = entry['loan_count']\n",
    "\n",
    "loans_dict"
   ]
  },
  {
   "cell_type": "code",
   "execution_count": 19,
   "id": "859bcb41-dc37-4a81-bc5f-223f43204b82",
   "metadata": {},
   "outputs": [],
   "source": [
    "url = \"https://docs.google.com/spreadsheets/d/13e14LzDDm9U4y2KddlKFAy7exNdbo1OwJa-OTe4ywiw/edit?usp=sharing\"\n",
    "\n",
    "external_config = bigquery.ExternalConfig(\"GOOGLE_SHEETS\")\n",
    "external_config.source_uris = [url]\n",
    "external_config.options.skip_leading_rows = 1\n",
    "external_config.autodetect = True\n",
    "\n",
    "table = bigquery.Table(f\"{project}.{dataset}.applications\")\n",
    "table.external_data_configuration = external_config\n",
    "\n",
    "table = bq.create_table(table, exists_ok=True)"
   ]
  },
  {
   "cell_type": "code",
   "execution_count": 20,
   "id": "4ac0d9c6-914b-492f-83dc-bd8390b3c03a",
   "metadata": {},
   "outputs": [
    {
     "data": {
      "application/vnd.jupyter.widget-view+json": {
       "model_id": "07cc55fe7e164dd1900a0d9234aef3f1",
       "version_major": 2,
       "version_minor": 0
      },
      "text/plain": [
       "Query is running:   0%|          |"
      ]
     },
     "metadata": {},
     "output_type": "display_data"
    },
    {
     "data": {
      "application/vnd.jupyter.widget-view+json": {
       "model_id": "b477a81501e64be6a42f836390a0a150",
       "version_major": 2,
       "version_minor": 0
      },
      "text/plain": [
       "Downloading:   0%|          |"
      ]
     },
     "metadata": {},
     "output_type": "display_data"
    }
   ],
   "source": [
    "%%bigquery income_df\n",
    "SELECT count(*) AS my_income_count\n",
    "FROM p8.applications\n",
    "WHERE income = 250000"
   ]
  },
  {
   "cell_type": "code",
   "execution_count": 21,
   "id": "4e8a9e27-69c7-4c93-a9c6-704ed4b0919b",
   "metadata": {},
   "outputs": [
    {
     "data": {
      "text/plain": [
       "9"
      ]
     },
     "execution_count": 21,
     "metadata": {},
     "output_type": "execute_result"
    }
   ],
   "source": [
    "#q6\n",
    "int(income_df['my_income_count'][0])"
   ]
  },
  {
   "cell_type": "code",
   "execution_count": 22,
   "id": "9a0b8b86-8846-466d-b4a4-6822f4fd27fb",
   "metadata": {},
   "outputs": [
    {
     "data": {
      "application/vnd.jupyter.widget-view+json": {
       "model_id": "852032f50fe04f21b0b8b62d445869a6",
       "version_major": 2,
       "version_minor": 0
      },
      "text/plain": [
       "Query is running:   0%|          |"
      ]
     },
     "metadata": {},
     "output_type": "display_data"
    },
    {
     "data": {
      "application/vnd.jupyter.widget-view+json": {
       "model_id": "b78da1ec2f544a1f8f55ff394a2389ec",
       "version_major": 2,
       "version_minor": 0
      },
      "text/plain": [
       "Downloading:   0%|          |"
      ]
     },
     "metadata": {},
     "output_type": "display_data"
    },
    {
     "data": {
      "text/html": [
       "<div>\n",
       "<style scoped>\n",
       "    .dataframe tbody tr th:only-of-type {\n",
       "        vertical-align: middle;\n",
       "    }\n",
       "\n",
       "    .dataframe tbody tr th {\n",
       "        vertical-align: top;\n",
       "    }\n",
       "\n",
       "    .dataframe thead th {\n",
       "        text-align: right;\n",
       "    }\n",
       "</style>\n",
       "<table border=\"1\" class=\"dataframe\">\n",
       "  <thead>\n",
       "    <tr style=\"text-align: right;\">\n",
       "      <th></th>\n",
       "      <th>Timestamp</th>\n",
       "      <th>loan_amount</th>\n",
       "      <th>income</th>\n",
       "      <th>latitude</th>\n",
       "      <th>longitude</th>\n",
       "    </tr>\n",
       "  </thead>\n",
       "  <tbody>\n",
       "    <tr>\n",
       "      <th>0</th>\n",
       "      <td>2024-11-26 20:31:58.477000+00:00</td>\n",
       "      <td>30000</td>\n",
       "      <td>100000</td>\n",
       "      <td>45.233277</td>\n",
       "      <td>-88.027144</td>\n",
       "    </tr>\n",
       "    <tr>\n",
       "      <th>1</th>\n",
       "      <td>2024-12-02 10:02:19.989000+00:00</td>\n",
       "      <td>1000000</td>\n",
       "      <td>250000</td>\n",
       "      <td>45.000000</td>\n",
       "      <td>45.000000</td>\n",
       "    </tr>\n",
       "    <tr>\n",
       "      <th>2</th>\n",
       "      <td>2024-12-02 10:02:44.188000+00:00</td>\n",
       "      <td>100000</td>\n",
       "      <td>9</td>\n",
       "      <td>47.323120</td>\n",
       "      <td>-123.120000</td>\n",
       "    </tr>\n",
       "    <tr>\n",
       "      <th>3</th>\n",
       "      <td>2024-12-02 10:03:17.986000+00:00</td>\n",
       "      <td>10000000</td>\n",
       "      <td>700000</td>\n",
       "      <td>-35.000000</td>\n",
       "      <td>100.000000</td>\n",
       "    </tr>\n",
       "    <tr>\n",
       "      <th>4</th>\n",
       "      <td>2024-12-02 10:03:22.677000+00:00</td>\n",
       "      <td>100000</td>\n",
       "      <td>40000</td>\n",
       "      <td>37.000000</td>\n",
       "      <td>42.000000</td>\n",
       "    </tr>\n",
       "  </tbody>\n",
       "</table>\n",
       "</div>"
      ],
      "text/plain": [
       "                         Timestamp  loan_amount  income   latitude   longitude\n",
       "0 2024-11-26 20:31:58.477000+00:00        30000  100000  45.233277  -88.027144\n",
       "1 2024-12-02 10:02:19.989000+00:00      1000000  250000  45.000000   45.000000\n",
       "2 2024-12-02 10:02:44.188000+00:00       100000       9  47.323120 -123.120000\n",
       "3 2024-12-02 10:03:17.986000+00:00     10000000  700000 -35.000000  100.000000\n",
       "4 2024-12-02 10:03:22.677000+00:00       100000   40000  37.000000   42.000000"
      ]
     },
     "execution_count": 22,
     "metadata": {},
     "output_type": "execute_result"
    }
   ],
   "source": [
    "%%bigquery\n",
    "SELECT * FROM `p8.applications`\n",
    "LIMIT 5"
   ]
  },
  {
   "cell_type": "code",
   "execution_count": 23,
   "id": "8b809638-12a3-494f-8e67-03d78e2b8281",
   "metadata": {},
   "outputs": [
    {
     "data": {
      "application/vnd.jupyter.widget-view+json": {
       "model_id": "dfa79160cb53429588e81974e7739cdd",
       "version_major": 2,
       "version_minor": 0
      },
      "text/plain": [
       "Query is running:   0%|          |"
      ]
     },
     "metadata": {},
     "output_type": "display_data"
    },
    {
     "data": {
      "text/html": [
       "<div>\n",
       "<style scoped>\n",
       "    .dataframe tbody tr th:only-of-type {\n",
       "        vertical-align: middle;\n",
       "    }\n",
       "\n",
       "    .dataframe tbody tr th {\n",
       "        vertical-align: top;\n",
       "    }\n",
       "\n",
       "    .dataframe thead th {\n",
       "        text-align: right;\n",
       "    }\n",
       "</style>\n",
       "<table border=\"1\" class=\"dataframe\">\n",
       "  <thead>\n",
       "    <tr style=\"text-align: right;\">\n",
       "      <th></th>\n",
       "    </tr>\n",
       "  </thead>\n",
       "  <tbody>\n",
       "  </tbody>\n",
       "</table>\n",
       "</div>"
      ],
      "text/plain": [
       "Empty DataFrame\n",
       "Columns: []\n",
       "Index: []"
      ]
     },
     "execution_count": 23,
     "metadata": {},
     "output_type": "execute_result"
    }
   ],
   "source": [
    "%%bigquery\n",
    "CREATE OR REPLACE MODEL `maximal-park-424812-p9.p8.linear_reg_model`\n",
    "OPTIONS(model_type='LINEAR_REG', input_label_cols=['y']) AS\n",
    "SELECT income AS x, loan_amount AS y\n",
    "FROM `maximal-park-424812-p9.p8.applications`\n"
   ]
  },
  {
   "cell_type": "code",
   "execution_count": 24,
   "id": "4519e7b8-7039-45ff-99bc-240882ff9c12",
   "metadata": {},
   "outputs": [
    {
     "data": {
      "application/vnd.jupyter.widget-view+json": {
       "model_id": "af9e4e6444304d7e94b7ed29b506ff49",
       "version_major": 2,
       "version_minor": 0
      },
      "text/plain": [
       "Query is running:   0%|          |"
      ]
     },
     "metadata": {},
     "output_type": "display_data"
    },
    {
     "data": {
      "application/vnd.jupyter.widget-view+json": {
       "model_id": "c2c81d8bea004ecb884def50d52eca00",
       "version_major": 2,
       "version_minor": 0
      },
      "text/plain": [
       "Downloading:   0%|          |"
      ]
     },
     "metadata": {},
     "output_type": "display_data"
    }
   ],
   "source": [
    "%%bigquery r2_score_df --project=maximal-park-424812-p9\n",
    "SELECT r2_score\n",
    "FROM ML.EVALUATE(MODEL `maximal-park-424812-p9.p8.linear_reg_model`, (\n",
    "    SELECT income AS x, loan_amount AS y\n",
    "    FROM `maximal-park-424812-p9.p8.applications`\n",
    "))\n"
   ]
  },
  {
   "cell_type": "code",
   "execution_count": 25,
   "id": "54a7241b-0c5f-4332-a2d3-32d28a1f7fb9",
   "metadata": {},
   "outputs": [
    {
     "data": {
      "text/plain": [
       "0.02643986942442078"
      ]
     },
     "execution_count": 25,
     "metadata": {},
     "output_type": "execute_result"
    }
   ],
   "source": [
    "#q7\n",
    "r2_score = r2_score_df.iloc[0]['r2_score']  # Extract the R^2 score\n",
    "r2_score_float = float(r2_score)  # Convert to a Python float\n",
    "r2_score_float\n"
   ]
  },
  {
   "cell_type": "code",
   "execution_count": 26,
   "id": "20daef00-17d7-47a5-b2b1-244bd0afaf71",
   "metadata": {},
   "outputs": [
    {
     "data": {
      "application/vnd.jupyter.widget-view+json": {
       "model_id": "233d53afa73c44a180e33663e9cb18cf",
       "version_major": 2,
       "version_minor": 0
      },
      "text/plain": [
       "Query is running:   0%|          |"
      ]
     },
     "metadata": {},
     "output_type": "display_data"
    },
    {
     "data": {
      "application/vnd.jupyter.widget-view+json": {
       "model_id": "b9956b9c70384e54b92d9b08cf72a97a",
       "version_major": 2,
       "version_minor": 0
      },
      "text/plain": [
       "Downloading:   0%|          |"
      ]
     },
     "metadata": {},
     "output_type": "display_data"
    }
   ],
   "source": [
    "%%bigquery closest_distance_meters\n",
    "SELECT\n",
    "  MIN(ST_DISTANCE(ST_GEOGPOINT(longitude, latitude), ST_GEOGPOINT(-89.3842, 43.0747))) AS closest_distance_meters\n",
    "FROM `maximal-park-424812-p9.p8.applications`\n",
    "\n"
   ]
  },
  {
   "cell_type": "code",
   "execution_count": 27,
   "id": "bdcd6048-d18f-45eb-bd0a-5d7bc89ae44c",
   "metadata": {},
   "outputs": [
    {
     "data": {
      "text/plain": [
       "7.735784105240923"
      ]
     },
     "execution_count": 27,
     "metadata": {},
     "output_type": "execute_result"
    }
   ],
   "source": [
    "#q8\n",
    "closest_distance_meters = closest_distance_meters.iloc[0]['closest_distance_meters']  \n",
    "closest_distance_meters = float(closest_distance_meters)  # Convert to a Python float\n",
    "closest_distance_meters"
   ]
  },
  {
   "cell_type": "code",
   "execution_count": 28,
   "id": "6eb45d53-ea6f-45bf-851a-3a3b33801144",
   "metadata": {},
   "outputs": [
    {
     "data": {
      "application/vnd.jupyter.widget-view+json": {
       "model_id": "39b40ae148cc453ea3e93d3d7e331314",
       "version_major": 2,
       "version_minor": 0
      },
      "text/plain": [
       "Query is running:   0%|          |"
      ]
     },
     "metadata": {},
     "output_type": "display_data"
    },
    {
     "data": {
      "application/vnd.jupyter.widget-view+json": {
       "model_id": "ba7650ed68ca499f83c7e7b145cbfa2a",
       "version_major": 2,
       "version_minor": 0
      },
      "text/plain": [
       "Downloading:   0%|          |"
      ]
     },
     "metadata": {},
     "output_type": "display_data"
    },
    {
     "data": {
      "text/html": [
       "<div>\n",
       "<style scoped>\n",
       "    .dataframe tbody tr th:only-of-type {\n",
       "        vertical-align: middle;\n",
       "    }\n",
       "\n",
       "    .dataframe tbody tr th {\n",
       "        vertical-align: top;\n",
       "    }\n",
       "\n",
       "    .dataframe thead th {\n",
       "        text-align: right;\n",
       "    }\n",
       "</style>\n",
       "<table border=\"1\" class=\"dataframe\">\n",
       "  <thead>\n",
       "    <tr style=\"text-align: right;\">\n",
       "      <th></th>\n",
       "      <th>county_geom</th>\n",
       "    </tr>\n",
       "  </thead>\n",
       "  <tbody>\n",
       "    <tr>\n",
       "      <th>0</th>\n",
       "      <td>POLYGON((-90.925417 46.587301, -90.924712 46.5...</td>\n",
       "    </tr>\n",
       "    <tr>\n",
       "      <th>1</th>\n",
       "      <td>POLYGON((-87.432419 45.111772, -87.439231 45.0...</td>\n",
       "    </tr>\n",
       "    <tr>\n",
       "      <th>2</th>\n",
       "      <td>POLYGON((-91.166006 44.335102, -91.165998 44.3...</td>\n",
       "    </tr>\n",
       "    <tr>\n",
       "      <th>3</th>\n",
       "      <td>POLYGON((-90.668478 43.466273, -90.668478 43.4...</td>\n",
       "    </tr>\n",
       "    <tr>\n",
       "      <th>4</th>\n",
       "      <td>POLYGON((-92.760909 45.81664, -92.759938 45.81...</td>\n",
       "    </tr>\n",
       "    <tr>\n",
       "      <th>...</th>\n",
       "      <td>...</td>\n",
       "    </tr>\n",
       "    <tr>\n",
       "      <th>67</th>\n",
       "      <td>POLYGON((-89.012343 43.023489, -89.012346 43.0...</td>\n",
       "    </tr>\n",
       "    <tr>\n",
       "      <th>68</th>\n",
       "      <td>POLYGON((-90.316574 44.953278, -90.316576 44.9...</td>\n",
       "    </tr>\n",
       "    <tr>\n",
       "      <th>69</th>\n",
       "      <td>POLYGON((-90.042787 45.4676, -90.04279 45.4667...</td>\n",
       "    </tr>\n",
       "    <tr>\n",
       "      <th>70</th>\n",
       "      <td>POLYGON((-88.69812 42.842634, -88.698507 42.84...</td>\n",
       "    </tr>\n",
       "    <tr>\n",
       "      <th>71</th>\n",
       "      <td>POLYGON((-90.315664 44.512775, -90.315757 44.5...</td>\n",
       "    </tr>\n",
       "  </tbody>\n",
       "</table>\n",
       "<p>72 rows × 1 columns</p>\n",
       "</div>"
      ],
      "text/plain": [
       "                                          county_geom\n",
       "0   POLYGON((-90.925417 46.587301, -90.924712 46.5...\n",
       "1   POLYGON((-87.432419 45.111772, -87.439231 45.0...\n",
       "2   POLYGON((-91.166006 44.335102, -91.165998 44.3...\n",
       "3   POLYGON((-90.668478 43.466273, -90.668478 43.4...\n",
       "4   POLYGON((-92.760909 45.81664, -92.759938 45.81...\n",
       "..                                                ...\n",
       "67  POLYGON((-89.012343 43.023489, -89.012346 43.0...\n",
       "68  POLYGON((-90.316574 44.953278, -90.316576 44.9...\n",
       "69  POLYGON((-90.042787 45.4676, -90.04279 45.4667...\n",
       "70  POLYGON((-88.69812 42.842634, -88.698507 42.84...\n",
       "71  POLYGON((-90.315664 44.512775, -90.315757 44.5...\n",
       "\n",
       "[72 rows x 1 columns]"
      ]
     },
     "execution_count": 28,
     "metadata": {},
     "output_type": "execute_result"
    }
   ],
   "source": [
    "%%bigquery\n",
    "SELECT county_geom\n",
    "FROM bigquery-public-data.geo_us_boundaries.counties\n",
    "WHERE state_fips_code = '55'"
   ]
  },
  {
   "cell_type": "code",
   "execution_count": 29,
   "id": "d3ff1b3e-1299-48a1-992f-1c36c340fabf",
   "metadata": {},
   "outputs": [
    {
     "data": {
      "application/vnd.jupyter.widget-view+json": {
       "model_id": "fc966fbeb37349e6bd6fa0a896fb4c66",
       "version_major": 2,
       "version_minor": 0
      },
      "text/plain": [
       "Query is running:   0%|          |"
      ]
     },
     "metadata": {},
     "output_type": "display_data"
    },
    {
     "data": {
      "application/vnd.jupyter.widget-view+json": {
       "model_id": "89f30fa4f2584ea585f4e1fbcfbec5ca",
       "version_major": 2,
       "version_minor": 0
      },
      "text/plain": [
       "Downloading:   0%|          |"
      ]
     },
     "metadata": {},
     "output_type": "display_data"
    }
   ],
   "source": [
    "%%bigquery applications_df\n",
    "SELECT c.county_name, COUNT(*) AS application_count\n",
    "FROM p8.applications a\n",
    "JOIN bigquery-public-data.geo_us_boundaries.counties c\n",
    "ON ST_CONTAINS(c.county_geom, ST_GEOGPOINT(a.longitude, a.latitude))\n",
    "WHERE c.state_fips_code = '55'\n",
    "GROUP BY c.county_name"
   ]
  },
  {
   "cell_type": "code",
   "execution_count": 30,
   "id": "6779bf1d-5c6b-47b2-a0e3-61290d43db9e",
   "metadata": {},
   "outputs": [
    {
     "data": {
      "text/plain": [
       "{'Dane': 34,\n",
       " 'Marinette': 3,\n",
       " 'Milwaukee': 4,\n",
       " 'Brown': 1,\n",
       " 'Price': 2,\n",
       " 'Jefferson': 3,\n",
       " 'Rock': 1,\n",
       " 'Oneida': 2,\n",
       " 'Door': 4,\n",
       " 'Waushara': 1,\n",
       " 'Juneau': 2,\n",
       " 'Fond du Lac': 2,\n",
       " 'Douglas': 1,\n",
       " 'Green': 1,\n",
       " 'Sawyer': 1,\n",
       " 'Wood': 1,\n",
       " 'Winnebago': 1,\n",
       " 'Bayfield': 2,\n",
       " 'Barron': 1,\n",
       " 'Shawano': 1,\n",
       " 'Taylor': 1}"
      ]
     },
     "execution_count": 30,
     "metadata": {},
     "output_type": "execute_result"
    }
   ],
   "source": [
    "#q9\n",
    "dict_list = applications_df.to_dict(orient='records')\n",
    "\n",
    "applications_dict = {}\n",
    "\n",
    "for entry in dict_list:\n",
    "    applications_dict[entry['county_name']] = entry['application_count']\n",
    "\n",
    "applications_dict"
   ]
  },
  {
   "cell_type": "code",
   "execution_count": 31,
   "id": "75a89840-7330-44f7-bba4-51610853a60d",
   "metadata": {},
   "outputs": [
    {
     "data": {
      "application/vnd.jupyter.widget-view+json": {
       "model_id": "7e84e7c969224345b50cf34de83a829a",
       "version_major": 2,
       "version_minor": 0
      },
      "text/plain": [
       "Query is running:   0%|          |"
      ]
     },
     "metadata": {},
     "output_type": "display_data"
    },
    {
     "data": {
      "application/vnd.jupyter.widget-view+json": {
       "model_id": "12e0fb1e73ba4729b7356129f424cc65",
       "version_major": 2,
       "version_minor": 0
      },
      "text/plain": [
       "Downloading:   0%|          |"
      ]
     },
     "metadata": {},
     "output_type": "display_data"
    }
   ],
   "source": [
    "%%bigquery bordering_counties_df\n",
    "WITH dane_county AS (\n",
    "  SELECT county_geom\n",
    "  FROM bigquery-public-data.geo_us_boundaries.counties\n",
    "  WHERE county_name = 'Dane' AND state_fips_code = '55'\n",
    ")\n",
    "SELECT c.county_name\n",
    "FROM bigquery-public-data.geo_us_boundaries.counties c\n",
    "JOIN dane_county d\n",
    "ON ST_TOUCHES(c.county_geom, d.county_geom)\n",
    "WHERE c.state_fips_code = '55' AND c.county_name != 'Dane'\n",
    "ORDER BY c.county_name;\n",
    "\n",
    "\n"
   ]
  },
  {
   "cell_type": "code",
   "execution_count": 32,
   "id": "fac914a6-604f-4186-a099-92ef55a506af",
   "metadata": {},
   "outputs": [
    {
     "data": {
      "text/plain": [
       "['Columbia', 'Dodge', 'Green', 'Iowa', 'Jefferson', 'Rock', 'Sauk']"
      ]
     },
     "execution_count": 32,
     "metadata": {},
     "output_type": "execute_result"
    }
   ],
   "source": [
    "#q10\n",
    "# Assuming the result of the query is stored in applications_df\n",
    "bordering_counties = bordering_counties_df['county_name'].tolist()\n",
    "\n",
    "# Sort the list alphabetically\n",
    "bordering_counties.sort()\n",
    "\n",
    "# Display the list of bordering counties\n",
    "bordering_counties\n",
    "\n"
   ]
  },
  {
   "cell_type": "code",
   "execution_count": null,
   "id": "b1c03df4-ce79-42e5-9ea3-4720b751b81c",
   "metadata": {},
   "outputs": [],
   "source": []
  }
 ],
 "metadata": {
  "kernelspec": {
   "display_name": "Python 3 (ipykernel)",
   "language": "python",
   "name": "python3"
  },
  "language_info": {
   "codemirror_mode": {
    "name": "ipython",
    "version": 3
   },
   "file_extension": ".py",
   "mimetype": "text/x-python",
   "name": "python",
   "nbconvert_exporter": "python",
   "pygments_lexer": "ipython3",
   "version": "3.12.3"
  }
 },
 "nbformat": 4,
 "nbformat_minor": 5
}
