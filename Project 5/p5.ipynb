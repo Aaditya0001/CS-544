{
 "cells": [
  {
   "cell_type": "code",
   "execution_count": 1,
   "id": "efd81337-c076-44b1-ac98-4e13655891d6",
   "metadata": {},
   "outputs": [],
   "source": [
    "#Authors: Aaditya Mehta, Bhavishya Kumar"
   ]
  },
  {
   "cell_type": "code",
   "execution_count": 2,
   "id": "894843c9-ed48-4d65-9f0e-c3e98b8b0387",
   "metadata": {},
   "outputs": [],
   "source": [
    "!hdfs dfs -D dfs.replication=1 -cp -f data/*.csv hdfs://nn:9000/"
   ]
  },
  {
   "cell_type": "code",
   "execution_count": 3,
   "id": "1dde445b-929b-4dea-86a6-71f9a85db8e2",
   "metadata": {},
   "outputs": [
    {
     "name": "stdout",
     "output_type": "stream",
     "text": [
      "Found 22 items\n",
      "-rw-r--r--   1 root supergroup        328 2024-11-08 08:20 hdfs://nn:9000/action_taken.csv\n",
      "-rw-r--r--   1 root supergroup        317 2024-11-08 08:20 hdfs://nn:9000/agency.csv\n",
      "-rw-r--r--   1 root supergroup     533472 2024-11-08 08:20 hdfs://nn:9000/arid2017_to_lei_xref_csv.csv\n",
      "-rw-r--r--   1 root supergroup     319092 2024-11-08 08:20 hdfs://nn:9000/counties.csv\n",
      "-rw-r--r--   1 root supergroup        237 2024-11-08 08:20 hdfs://nn:9000/denial_reason.csv\n",
      "-rw-r--r--   1 root supergroup        109 2024-11-08 08:20 hdfs://nn:9000/edit_status.csv\n",
      "-rw-r--r--   1 root supergroup        180 2024-11-08 08:20 hdfs://nn:9000/ethnicity.csv\n",
      "-rw-r--r--   1 root supergroup  174944099 2024-11-08 08:20 hdfs://nn:9000/hdma-wi-2021.csv\n",
      "-rw-r--r--   1 root supergroup         41 2024-11-08 08:20 hdfs://nn:9000/hoepa.csv\n",
      "-rw-r--r--   1 root supergroup        114 2024-11-08 08:20 hdfs://nn:9000/lien_status.csv\n",
      "-rw-r--r--   1 root supergroup         65 2024-11-08 08:20 hdfs://nn:9000/loan_purpose.csv\n",
      "-rw-r--r--   1 root supergroup         79 2024-11-08 08:20 hdfs://nn:9000/loan_type.csv\n",
      "-rw-r--r--   1 root supergroup     132689 2024-11-08 08:20 hdfs://nn:9000/msamd.csv\n",
      "-rw-r--r--   1 root supergroup        122 2024-11-08 08:20 hdfs://nn:9000/owner_occupancy.csv\n",
      "-rw-r--r--   1 root supergroup         92 2024-11-08 08:20 hdfs://nn:9000/preapproval.csv\n",
      "-rw-r--r--   1 root supergroup        127 2024-11-08 08:20 hdfs://nn:9000/property_type.csv\n",
      "-rw-r--r--   1 root supergroup        387 2024-11-08 08:20 hdfs://nn:9000/purchaser_type.csv\n",
      "-rw-r--r--   1 root supergroup        252 2024-11-08 08:20 hdfs://nn:9000/race.csv\n",
      "-rw-r--r--   1 root supergroup        144 2024-11-08 08:20 hdfs://nn:9000/sex.csv\n",
      "-rw-r--r--   1 root supergroup        955 2024-11-08 08:20 hdfs://nn:9000/states.csv\n",
      "-rw-r--r--   1 root supergroup    2733350 2024-11-08 08:20 hdfs://nn:9000/tracts.csv\n",
      "drwxr-xr-x   - root supergroup          0 2024-11-08 08:14 hdfs://nn:9000/user\n"
     ]
    }
   ],
   "source": [
    "! hdfs dfs -ls hdfs://nn:9000/"
   ]
  },
  {
   "cell_type": "code",
   "execution_count": 4,
   "id": "178323e5-147d-43d5-9329-705376e358a2",
   "metadata": {},
   "outputs": [
    {
     "name": "stderr",
     "output_type": "stream",
     "text": [
      "Setting default log level to \"WARN\".\n",
      "To adjust logging level use sc.setLogLevel(newLevel). For SparkR, use setLogLevel(newLevel).\n",
      "24/11/08 08:20:25 WARN NativeCodeLoader: Unable to load native-hadoop library for your platform... using builtin-java classes where applicable\n"
     ]
    }
   ],
   "source": [
    "from pyspark.sql import SparkSession\n",
    "spark = (SparkSession.builder.appName(\"cs544\")\n",
    "         .master(\"spark://boss:7077\")\n",
    "         .config(\"spark.executor.memory\", \"512M\")\n",
    "         .config(\"spark.sql.warehouse.dir\", \"hdfs://nn:9000/user/hive/warehouse\")\n",
    "         .enableHiveSupport()\n",
    "         .getOrCreate())"
   ]
  },
  {
   "cell_type": "code",
   "execution_count": 5,
   "id": "9064af68-ade1-49a6-99a2-0408f2ed719c",
   "metadata": {},
   "outputs": [
    {
     "name": "stderr",
     "output_type": "stream",
     "text": [
      "                                                                                \r"
     ]
    }
   ],
   "source": [
    "banks_df = (\n",
    "    spark.read.format(\"csv\")\n",
    "    .option(\"header\", True)\n",
    "    .option(\"inferSchema\", True)\n",
    "    .load(\"hdfs://nn:9000/arid2017_to_lei_xref_csv.csv\")\n",
    ") "
   ]
  },
  {
   "cell_type": "code",
   "execution_count": 6,
   "id": "df2baa6a-2631-4a19-b12e-9572bd6d4983",
   "metadata": {},
   "outputs": [
    {
     "data": {
      "text/plain": [
       "Row(respondent_name='First National Bank', arid_2017='110004', lei_2018='5493003EW6T31TGECO83', lei_2019='5493003EW6T31TGECO83', lei_2020='5493003EW6T31TGECO83')"
      ]
     },
     "execution_count": 6,
     "metadata": {},
     "output_type": "execute_result"
    }
   ],
   "source": [
    "banks_df.head()"
   ]
  },
  {
   "cell_type": "markdown",
   "id": "5f675f9a-f34a-40cc-92c8-e17a332e9f4d",
   "metadata": {},
   "source": [
    "# Part 1: Filtering: RDDs, DataFrames, and Spark"
   ]
  },
  {
   "cell_type": "code",
   "execution_count": 7,
   "id": "9d8180d8-0d86-4dee-b2b7-b9fbfe77a794",
   "metadata": {},
   "outputs": [
    {
     "name": "stderr",
     "output_type": "stream",
     "text": [
      "                                                                                \r"
     ]
    },
    {
     "data": {
      "text/plain": [
       "298"
      ]
     },
     "execution_count": 7,
     "metadata": {},
     "output_type": "execute_result"
    }
   ],
   "source": [
    "#q1: How many banks start with \"The\" in their names?\n",
    "bank_count=banks_df.rdd.filter(lambda Row : Row[\"respondent_name\"][:3]==\"The\").count()\n",
    "bank_count\n"
   ]
  },
  {
   "cell_type": "code",
   "execution_count": 8,
   "id": "5307b94e-309a-4fba-a6b7-5ad33232e84f",
   "metadata": {},
   "outputs": [
    {
     "data": {
      "text/plain": [
       "298"
      ]
     },
     "execution_count": 8,
     "metadata": {},
     "output_type": "execute_result"
    }
   ],
   "source": [
    "#q2: This is the same as Q1, but now you must operate on banks_df itself, without directly accessing the underlying RDD.\n",
    "banks_df.filter(\"respondent_name LIKE 'The%'\").count()"
   ]
  },
  {
   "cell_type": "code",
   "execution_count": 9,
   "id": "e468de49-c75f-49b8-b9db-fa25d7b48e55",
   "metadata": {},
   "outputs": [
    {
     "name": "stderr",
     "output_type": "stream",
     "text": [
      "24/11/08 08:21:06 WARN HiveConf: HiveConf of name hive.stats.jdbc.timeout does not exist\n",
      "24/11/08 08:21:06 WARN HiveConf: HiveConf of name hive.stats.retries.wait does not exist\n",
      "24/11/08 08:21:09 WARN ObjectStore: Version information not found in metastore. hive.metastore.schema.verification is not enabled so recording the schema version 2.3.0\n",
      "24/11/08 08:21:09 WARN ObjectStore: setMetaStoreSchemaVersion called but recording version is disabled: version = 2.3.0, comment = Set by MetaStore UNKNOWN@172.18.0.3\n",
      "24/11/08 08:21:09 WARN ObjectStore: Failed to get database global_temp, returning NoSuchObjectException\n",
      "24/11/08 08:21:12 WARN SessionState: METASTORE_FILTER_HOOK will be ignored, since hive.security.authorization.manager is set to instance of HiveAuthorizerFactory.\n",
      "24/11/08 08:21:12 WARN HiveConf: HiveConf of name hive.internal.ss.authz.settings.applied.marker does not exist\n",
      "24/11/08 08:21:12 WARN HiveConf: HiveConf of name hive.stats.jdbc.timeout does not exist\n",
      "24/11/08 08:21:12 WARN HiveConf: HiveConf of name hive.stats.retries.wait does not exist\n"
     ]
    }
   ],
   "source": [
    "banks_df.write.saveAsTable(\"banks\", mode=\"overwrite\")"
   ]
  },
  {
   "cell_type": "code",
   "execution_count": 10,
   "id": "c9973de0-ceb4-4e3c-9448-c8770364bcff",
   "metadata": {},
   "outputs": [
    {
     "data": {
      "text/plain": [
       "298"
      ]
     },
     "execution_count": 10,
     "metadata": {},
     "output_type": "execute_result"
    }
   ],
   "source": [
    "#q3: how many banks start with \"The\" in their names (case sensitive)?  Use Spark SQL to answer.\n",
    "spark.sql(\"select count(*) as count from banks where respondent_name like 'The%'\").toPandas()['count'].iloc[0]"
   ]
  },
  {
   "cell_type": "markdown",
   "id": "0534aed1-20ca-4d66-b335-71953544e03d",
   "metadata": {},
   "source": [
    "# Part 2: Hive Data Warehouse"
   ]
  },
  {
   "cell_type": "code",
   "execution_count": 11,
   "id": "cf04c336-132d-440c-88ad-c12c096ceb15",
   "metadata": {},
   "outputs": [
    {
     "name": "stderr",
     "output_type": "stream",
     "text": [
      "24/11/08 08:21:22 WARN SparkStringUtils: Truncated the string representation of a plan since it was too large. This behavior can be adjusted by setting 'spark.sql.debug.maxToStringFields'.\n",
      "                                                                                \r"
     ]
    }
   ],
   "source": [
    "loans_df = (\n",
    "    spark.read.format(\"csv\")\n",
    "    .option(\"header\", True)\n",
    "    .option(\"inferSchema\", True)\n",
    "    .load(\"hdfs://nn:9000/hdma-wi-2021.csv\")\n",
    ") \n",
    "loans_df.write.bucketBy(8, \"county_code\").saveAsTable(\"loans\", mode=\"overwrite\")"
   ]
  },
  {
   "cell_type": "code",
   "execution_count": 12,
   "id": "fe9626b3-0196-4931-acb6-cf070f8bbba9",
   "metadata": {},
   "outputs": [],
   "source": [
    "files = [\n",
    "    \"ethnicity.csv\", \"race.csv\", \"sex.csv\", \"states.csv\", \n",
    "    \"counties.csv\", \"tracts.csv\", \"action_taken.csv\",\n",
    "    \"denial_reason.csv\", \"loan_type.csv\", \"loan_purpose.csv\", \n",
    "    \"preapproval.csv\", \"property_type.csv\"\n",
    "]\n",
    "\n",
    "for i in files:\n",
    "    file_df = (\n",
    "        spark.read.format(\"csv\")\n",
    "        .option(\"header\", True)\n",
    "        .option(\"inferSchema\", True)\n",
    "        .load(f\"hdfs://nn:9000/{i}\") \n",
    "    )\n",
    "    file_df.createOrReplaceTempView(i[:-4])"
   ]
  },
  {
   "cell_type": "code",
   "execution_count": 13,
   "id": "038b6856-4d4d-4e48-9ddb-71b1d030ad8c",
   "metadata": {},
   "outputs": [
    {
     "data": {
      "text/plain": [
       "{'banks': False,\n",
       " 'loans': False,\n",
       " 'action_taken': True,\n",
       " 'counties': True,\n",
       " 'denial_reason': True,\n",
       " 'ethnicity': True,\n",
       " 'loan_purpose': True,\n",
       " 'loan_type': True,\n",
       " 'preapproval': True,\n",
       " 'property_type': True,\n",
       " 'race': True,\n",
       " 'sex': True,\n",
       " 'states': True,\n",
       " 'tracts': True}"
      ]
     },
     "execution_count": 13,
     "metadata": {},
     "output_type": "execute_result"
    }
   ],
   "source": [
    "#q4: what tables are in our warehouse?\n",
    "spark.sql(\"SHOW TABLES\").toPandas().set_index('tableName')['isTemporary'].to_dict()"
   ]
  },
  {
   "cell_type": "code",
   "execution_count": 14,
   "id": "c70fa304-addf-45fa-8a9b-066ebd67cdc3",
   "metadata": {},
   "outputs": [
    {
     "name": "stderr",
     "output_type": "stream",
     "text": [
      "                                                                                \r"
     ]
    },
    {
     "data": {
      "text/plain": [
       "19739"
      ]
     },
     "execution_count": 14,
     "metadata": {},
     "output_type": "execute_result"
    }
   ],
   "source": [
    "#q5: how many loan applications has the bank named \"University of Wisconsin Credit Union\" received?\n",
    "spark.sql(\"\"\"\n",
    "SELECT COUNT(*) as count\n",
    "FROM banks b\n",
    "INNER JOIN loans l\n",
    "ON b.lei_2020 = l.lei\n",
    "WHERE b.respondent_name='University of Wisconsin Credit Union'\n",
    "\"\"\").toPandas()['count'].iloc[0]"
   ]
  },
  {
   "cell_type": "code",
   "execution_count": 15,
   "id": "56f65eac-7f76-42b3-a978-720e1e550a0d",
   "metadata": {},
   "outputs": [
    {
     "name": "stdout",
     "output_type": "stream",
     "text": [
      "== Physical Plan ==\n",
      "AdaptiveSparkPlan (12)\n",
      "+- HashAggregate (11)\n",
      "   +- Exchange (10)\n",
      "      +- HashAggregate (9)\n",
      "         +- Project (8)\n",
      "            +- BroadcastHashJoin Inner BuildLeft (7)\n",
      "               :- BroadcastExchange (4)\n",
      "               :  +- Project (3)\n",
      "               :     +- Filter (2)\n",
      "               :        +- Scan parquet spark_catalog.default.banks (1)\n",
      "               +- Filter (6)\n",
      "                  +- Scan parquet spark_catalog.default.loans (5)\n",
      "\n",
      "\n",
      "(1) Scan parquet spark_catalog.default.banks\n",
      "Output [2]: [respondent_name#71, lei_2020#75]\n",
      "Batched: true\n",
      "Location: InMemoryFileIndex [hdfs://nn:9000/user/hive/warehouse/banks]\n",
      "PushedFilters: [IsNotNull(respondent_name), EqualTo(respondent_name,University of Wisconsin Credit Union), IsNotNull(lei_2020)]\n",
      "ReadSchema: struct<respondent_name:string,lei_2020:string>\n",
      "\n",
      "(2) Filter\n",
      "Input [2]: [respondent_name#71, lei_2020#75]\n",
      "Condition : ((isnotnull(respondent_name#71) AND (respondent_name#71 = University of Wisconsin Credit Union)) AND isnotnull(lei_2020#75))\n",
      "\n",
      "(3) Project\n",
      "Output [1]: [lei_2020#75]\n",
      "Input [2]: [respondent_name#71, lei_2020#75]\n",
      "\n",
      "(4) BroadcastExchange\n",
      "Input [1]: [lei_2020#75]\n",
      "Arguments: HashedRelationBroadcastMode(List(input[0, string, true]),false), [plan_id=629]\n",
      "\n",
      "(5) Scan parquet spark_catalog.default.loans\n",
      "Output [1]: [lei#994]\n",
      "Batched: true\n",
      "Bucketed: false (bucket column(s) not read)\n",
      "Location: InMemoryFileIndex [hdfs://nn:9000/user/hive/warehouse/loans]\n",
      "PushedFilters: [IsNotNull(lei)]\n",
      "ReadSchema: struct<lei:string>\n",
      "\n",
      "(6) Filter\n",
      "Input [1]: [lei#994]\n",
      "Condition : isnotnull(lei#994)\n",
      "\n",
      "(7) BroadcastHashJoin\n",
      "Left keys [1]: [lei_2020#75]\n",
      "Right keys [1]: [lei#994]\n",
      "Join type: Inner\n",
      "Join condition: None\n",
      "\n",
      "(8) Project\n",
      "Output: []\n",
      "Input [2]: [lei_2020#75, lei#994]\n",
      "\n",
      "(9) HashAggregate\n",
      "Input: []\n",
      "Keys: []\n",
      "Functions [1]: [partial_count(1)]\n",
      "Aggregate Attributes [1]: [count#1099L]\n",
      "Results [1]: [count#1100L]\n",
      "\n",
      "(10) Exchange\n",
      "Input [1]: [count#1100L]\n",
      "Arguments: SinglePartition, ENSURE_REQUIREMENTS, [plan_id=634]\n",
      "\n",
      "(11) HashAggregate\n",
      "Input [1]: [count#1100L]\n",
      "Keys: []\n",
      "Functions [1]: [count(1)]\n",
      "Aggregate Attributes [1]: [count(1)#1097L]\n",
      "Results [1]: [count(1)#1097L AS count#1096L]\n",
      "\n",
      "(12) AdaptiveSparkPlan\n",
      "Output [1]: [count#1096L]\n",
      "Arguments: isFinalPlan=false\n",
      "\n",
      "\n"
     ]
    }
   ],
   "source": [
    "#q6: what does .explain(\"formatted\") tell us about how Spark executes Q5?\n",
    "spark.sql(\"\"\"\n",
    "    SELECT COUNT(*) as count\n",
    "    FROM banks b\n",
    "    INNER JOIN loans l\n",
    "    ON b.lei_2020 = l.lei\n",
    "    WHERE b.respondent_name='University of Wisconsin Credit Union' \"\"\").explain(\"formatted\")\n",
    "\n",
    "\n",
    "# 1:Which table is sent to every executor via a BroadcastExchange operation? - \n",
    "#Ans: Banks\n",
    "\n",
    "# 2:Does the plan involve HashAggregates (depending on how you write the query, it may or may not)?  If so, which ones?\n",
    "#Ans: HashAggregate (9) - partial aggregation(count), happens after BroadcastHashJoin and before exchange(10) in each partition"
   ]
  },
  {
   "cell_type": "markdown",
   "id": "e9fabce0-def9-459e-a359-acbf1e9600a7",
   "metadata": {},
   "source": [
    "# Part 3: Grouping Rows"
   ]
  },
  {
   "cell_type": "code",
   "execution_count": 16,
   "id": "0d9380a2-9135-42ff-8b2b-3e9cc53acb97",
   "metadata": {},
   "outputs": [
    {
     "data": {
      "text/html": [
       "<div>\n",
       "<style scoped>\n",
       "    .dataframe tbody tr th:only-of-type {\n",
       "        vertical-align: middle;\n",
       "    }\n",
       "\n",
       "    .dataframe tbody tr th {\n",
       "        vertical-align: top;\n",
       "    }\n",
       "\n",
       "    .dataframe thead th {\n",
       "        text-align: right;\n",
       "    }\n",
       "</style>\n",
       "<table border=\"1\" class=\"dataframe\">\n",
       "  <thead>\n",
       "    <tr style=\"text-align: right;\">\n",
       "      <th></th>\n",
       "      <th>respondent_name</th>\n",
       "    </tr>\n",
       "  </thead>\n",
       "  <tbody>\n",
       "    <tr>\n",
       "      <th>0</th>\n",
       "      <td>Wells Bank</td>\n",
       "    </tr>\n",
       "    <tr>\n",
       "      <th>1</th>\n",
       "      <td>Wells Fargo Bank, National Association</td>\n",
       "    </tr>\n",
       "  </tbody>\n",
       "</table>\n",
       "</div>"
      ],
      "text/plain": [
       "                          respondent_name\n",
       "0                              Wells Bank\n",
       "1  Wells Fargo Bank, National Association"
      ]
     },
     "execution_count": 16,
     "metadata": {},
     "output_type": "execute_result"
    }
   ],
   "source": [
    "spark.sql(\"\"\"\n",
    "SELECT respondent_name\n",
    "FROM banks \n",
    "WHERE respondent_name LIKE '%Wells%'\n",
    "\"\"\").toPandas()"
   ]
  },
  {
   "cell_type": "code",
   "execution_count": 17,
   "id": "473d0666-414a-4950-8fd3-4d5079f4dae5",
   "metadata": {},
   "outputs": [
    {
     "data": {
      "text/html": [
       "<div>\n",
       "<style scoped>\n",
       "    .dataframe tbody tr th:only-of-type {\n",
       "        vertical-align: middle;\n",
       "    }\n",
       "\n",
       "    .dataframe tbody tr th {\n",
       "        vertical-align: top;\n",
       "    }\n",
       "\n",
       "    .dataframe thead th {\n",
       "        text-align: right;\n",
       "    }\n",
       "</style>\n",
       "<table border=\"1\" class=\"dataframe\">\n",
       "  <thead>\n",
       "    <tr style=\"text-align: right;\">\n",
       "      <th></th>\n",
       "      <th>AREA</th>\n",
       "      <th>PERIMETER</th>\n",
       "      <th>CO99_D00_</th>\n",
       "      <th>CO99_D00_I</th>\n",
       "      <th>STATE</th>\n",
       "      <th>COUNTY</th>\n",
       "      <th>NAME</th>\n",
       "      <th>LSAD</th>\n",
       "      <th>LSAD_TRANS</th>\n",
       "    </tr>\n",
       "  </thead>\n",
       "  <tbody>\n",
       "    <tr>\n",
       "      <th>0</th>\n",
       "      <td>52.91341</td>\n",
       "      <td>60.56496</td>\n",
       "      <td>2.0</td>\n",
       "      <td>1.0</td>\n",
       "      <td>2</td>\n",
       "      <td>185</td>\n",
       "      <td>North Slope</td>\n",
       "      <td>4</td>\n",
       "      <td>Borough</td>\n",
       "    </tr>\n",
       "  </tbody>\n",
       "</table>\n",
       "</div>"
      ],
      "text/plain": [
       "       AREA  PERIMETER  CO99_D00_  CO99_D00_I  STATE  COUNTY         NAME  \\\n",
       "0  52.91341   60.56496        2.0         1.0      2     185  North Slope   \n",
       "\n",
       "   LSAD LSAD_TRANS  \n",
       "0     4    Borough  "
      ]
     },
     "execution_count": 17,
     "metadata": {},
     "output_type": "execute_result"
    }
   ],
   "source": [
    "spark.sql(\"\"\"\n",
    "SELECT *\n",
    "FROM counties \n",
    "LIMIT 1\n",
    "\"\"\").toPandas()"
   ]
  },
  {
   "cell_type": "code",
   "execution_count": 18,
   "id": "318551b1-6738-4f3b-9ac3-0463fb59798b",
   "metadata": {},
   "outputs": [
    {
     "data": {
      "text/plain": [
       "['interest_rate',\n",
       " 'interest_only_payment',\n",
       " 'manufactured_home_land_property_interest']"
      ]
     },
     "execution_count": 18,
     "metadata": {},
     "output_type": "execute_result"
    }
   ],
   "source": [
    "interest_columns = [col for col in loans_df.columns if 'interest' in col]\n",
    "\n",
    "interest_columns"
   ]
  },
  {
   "cell_type": "code",
   "execution_count": 19,
   "id": "2442c9d9-370d-496f-8cea-cc33477ef2c3",
   "metadata": {},
   "outputs": [
    {
     "name": "stderr",
     "output_type": "stream",
     "text": [
      "                                                                                \r"
     ]
    },
    {
     "data": {
      "text/plain": [
       "{'Milwaukee': 3.1173465727097907,\n",
       " 'Waukesha': 2.8758225602027756,\n",
       " 'Washington': 2.851009389671362,\n",
       " 'Dane': 2.890674955595027,\n",
       " 'Brown': 3.010949119373777,\n",
       " 'Racine': 3.099783715012723,\n",
       " 'Outagamie': 2.979661835748792,\n",
       " 'Winnebago': 3.0284761904761908,\n",
       " 'Ozaukee': 2.8673765432098772,\n",
       " 'Sheboygan': 2.995511111111111}"
      ]
     },
     "execution_count": 19,
     "metadata": {},
     "output_type": "execute_result"
    }
   ],
   "source": [
    "#q7: what are the average interest rates for Wells Fargo applications for the ten counties where Wells Fargo receives the most applications?\n",
    "\n",
    "d=spark.sql(\"\"\"\n",
    "    SELECT counties.NAME as name, AVG(loans.interest_rate) as avg_interest_rate\n",
    "    FROM loans\n",
    "    INNER JOIN counties\n",
    "    ON loans.county_code = counties.STATE * 1000 + counties.COUNTY\n",
    "    INNER JOIN banks\n",
    "    ON banks.lei_2020 = loans.lei\n",
    "    WHERE banks.respondent_name LIKE \"Wells%\"\n",
    "    GROUP BY counties.NAME\n",
    "    ORDER BY count(*) DESC\n",
    "    LIMIT 10\n",
    "\"\"\").toPandas().set_index(\"name\")[\"avg_interest_rate\"]\n",
    "\n",
    "d.to_dict()"
   ]
  },
  {
   "cell_type": "code",
   "execution_count": 20,
   "id": "a94d9579-c36e-47af-a186-1e680bdb42fa",
   "metadata": {},
   "outputs": [
    {
     "name": "stdout",
     "output_type": "stream",
     "text": [
      "\n",
      "Usage:   \n",
      "  pip3 install [options] <requirement specifier> [package-index-options] ...\n",
      "  pip3 install [options] -r <requirements file> [package-index-options] ...\n",
      "  pip3 install [options] [-e] <vcs project url> ...\n",
      "  pip3 install [options] [-e] <local project path> ...\n",
      "  pip3 install [options] <archive url/path> ...\n",
      "\n",
      "no such option: --break-system-packages\n"
     ]
    }
   ],
   "source": [
    "#Installing matplotlib package to display the graph\n",
    "!pip3 install matplotlib --break-system-packages"
   ]
  },
  {
   "cell_type": "code",
   "execution_count": 21,
   "id": "8cf6307f-1928-4437-9053-7c915bc3fc9e",
   "metadata": {},
   "outputs": [
    {
     "data": {
      "text/plain": [
       "<Axes: xlabel='name'>"
      ]
     },
     "execution_count": 21,
     "metadata": {},
     "output_type": "execute_result"
    },
    {
     "data": {
      "image/png": "[encoded data removed]",
      "text/plain": [
       "<Figure size 640x480 with 1 Axes>"
      ]
     },
     "metadata": {},
     "output_type": "display_data"
    }
   ],
   "source": [
    "d.plot.bar()"
   ]
  },
  {
   "cell_type": "code",
   "execution_count": 22,
   "id": "776a2285-fbae-49a5-82dd-9c1890a3d396",
   "metadata": {},
   "outputs": [
    {
     "data": {
      "text/plain": [
       "[('activity_year', 'int'),\n",
       " ('lei', 'string'),\n",
       " ('derived_msa-md', 'int'),\n",
       " ('state_code', 'string'),\n",
       " ('county_code', 'string'),\n",
       " ('census_tract', 'string'),\n",
       " ('conforming_loan_limit', 'string'),\n",
       " ('derived_loan_product_type', 'string'),\n",
       " ('derived_dwelling_category', 'string'),\n",
       " ('derived_ethnicity', 'string'),\n",
       " ('derived_race', 'string'),\n",
       " ('derived_sex', 'string'),\n",
       " ('action_taken', 'int'),\n",
       " ('purchaser_type', 'int'),\n",
       " ('preapproval', 'int'),\n",
       " ('loan_type', 'int'),\n",
       " ('loan_purpose', 'int'),\n",
       " ('lien_status', 'int'),\n",
       " ('reverse_mortgage', 'int'),\n",
       " ('open-end_line_of_credit', 'int'),\n",
       " ('business_or_commercial_purpose', 'int'),\n",
       " ('loan_amount', 'double'),\n",
       " ('loan_to_value_ratio', 'string'),\n",
       " ('interest_rate', 'string'),\n",
       " ('rate_spread', 'string'),\n",
       " ('hoepa_status', 'int'),\n",
       " ('total_loan_costs', 'string'),\n",
       " ('total_points_and_fees', 'string'),\n",
       " ('origination_charges', 'string'),\n",
       " ('discount_points', 'string'),\n",
       " ('lender_credits', 'string'),\n",
       " ('loan_term', 'string'),\n",
       " ('prepayment_penalty_term', 'string'),\n",
       " ('intro_rate_period', 'string'),\n",
       " ('negative_amortization', 'int'),\n",
       " ('interest_only_payment', 'int'),\n",
       " ('balloon_payment', 'int'),\n",
       " ('other_nonamortizing_features', 'int'),\n",
       " ('property_value', 'string'),\n",
       " ('construction_method', 'int'),\n",
       " ('occupancy_type', 'int'),\n",
       " ('manufactured_home_secured_property_type', 'int'),\n",
       " ('manufactured_home_land_property_interest', 'int'),\n",
       " ('total_units', 'string'),\n",
       " ('multifamily_affordable_units', 'string'),\n",
       " ('income', 'string'),\n",
       " ('debt_to_income_ratio', 'string'),\n",
       " ('applicant_credit_score_type', 'int'),\n",
       " ('co-applicant_credit_score_type', 'int'),\n",
       " ('applicant_ethnicity-1', 'int'),\n",
       " ('applicant_ethnicity-2', 'int'),\n",
       " ('applicant_ethnicity-3', 'int'),\n",
       " ('applicant_ethnicity-4', 'int'),\n",
       " ('applicant_ethnicity-5', 'int'),\n",
       " ('co-applicant_ethnicity-1', 'int'),\n",
       " ('co-applicant_ethnicity-2', 'int'),\n",
       " ('co-applicant_ethnicity-3', 'int'),\n",
       " ('co-applicant_ethnicity-4', 'int'),\n",
       " ('co-applicant_ethnicity-5', 'string'),\n",
       " ('applicant_ethnicity_observed', 'int'),\n",
       " ('co-applicant_ethnicity_observed', 'int'),\n",
       " ('applicant_race-1', 'int'),\n",
       " ('applicant_race-2', 'int'),\n",
       " ('applicant_race-3', 'int'),\n",
       " ('applicant_race-4', 'int'),\n",
       " ('applicant_race-5', 'int'),\n",
       " ('co-applicant_race-1', 'int'),\n",
       " ('co-applicant_race-2', 'int'),\n",
       " ('co-applicant_race-3', 'int'),\n",
       " ('co-applicant_race-4', 'int'),\n",
       " ('co-applicant_race-5', 'int'),\n",
       " ('applicant_race_observed', 'int'),\n",
       " ('co-applicant_race_observed', 'int'),\n",
       " ('applicant_sex', 'int'),\n",
       " ('co-applicant_sex', 'int'),\n",
       " ('applicant_sex_observed', 'int'),\n",
       " ('co-applicant_sex_observed', 'int'),\n",
       " ('applicant_age', 'string'),\n",
       " ('co-applicant_age', 'string'),\n",
       " ('applicant_age_above_62', 'string'),\n",
       " ('co-applicant_age_above_62', 'string'),\n",
       " ('submission_of_application', 'int'),\n",
       " ('initially_payable_to_institution', 'int'),\n",
       " ('aus-1', 'int'),\n",
       " ('aus-2', 'int'),\n",
       " ('aus-3', 'int'),\n",
       " ('aus-4', 'int'),\n",
       " ('aus-5', 'int'),\n",
       " ('denial_reason-1', 'int'),\n",
       " ('denial_reason-2', 'int'),\n",
       " ('denial_reason-3', 'int'),\n",
       " ('denial_reason-4', 'int'),\n",
       " ('tract_population', 'int'),\n",
       " ('tract_minority_population_percent', 'double'),\n",
       " ('ffiec_msa_md_median_family_income', 'int'),\n",
       " ('tract_to_msa_income_percentage', 'int'),\n",
       " ('tract_owner_occupied_units', 'int'),\n",
       " ('tract_one_to_four_family_homes', 'int'),\n",
       " ('tract_median_age_of_housing_units', 'int')]"
      ]
     },
     "execution_count": 22,
     "metadata": {},
     "output_type": "execute_result"
    }
   ],
   "source": [
    "loans_df.dtypes"
   ]
  },
  {
   "cell_type": "code",
   "execution_count": 23,
   "id": "6180f909-7d20-4158-9899-615ed4a27fad",
   "metadata": {},
   "outputs": [
    {
     "name": "stdout",
     "output_type": "stream",
     "text": [
      "== Physical Plan ==\n",
      "AdaptiveSparkPlan isFinalPlan=false\n",
      "+- HashAggregate(keys=[county_code#997], functions=[avg(loan_amount#1014)])\n",
      "   +- HashAggregate(keys=[county_code#997], functions=[partial_avg(loan_amount#1014)])\n",
      "      +- FileScan parquet spark_catalog.default.loans[county_code#997,loan_amount#1014] Batched: true, Bucketed: true, DataFilters: [], Format: Parquet, Location: InMemoryFileIndex(1 paths)[hdfs://nn:9000/user/hive/warehouse/loans], PartitionFilters: [], PushedFilters: [], ReadSchema: struct<county_code:string,loan_amount:double>, SelectedBucketsCount: 8 out of 8\n",
      "\n",
      "\n"
     ]
    }
   ],
   "source": [
    "#q8: when computing a MEAN aggregate per group of loans, under what situation (when) do we require network I/O between the partial_mean and mean operations?\n",
    "spark.sql(\"\"\"\n",
    "SELECT AVG(loan_amount)\n",
    "FROM loans \n",
    "GROUP BY county_code\n",
    "\"\"\").explain()"
   ]
  },
  {
   "cell_type": "code",
   "execution_count": 24,
   "id": "5f73e60f-753e-457e-b914-d8b36fd5ae3a",
   "metadata": {},
   "outputs": [
    {
     "name": "stdout",
     "output_type": "stream",
     "text": [
      "== Physical Plan ==\n",
      "AdaptiveSparkPlan isFinalPlan=false\n",
      "+- HashAggregate(keys=[lei#994], functions=[avg(loan_amount#1014)])\n",
      "   +- Exchange hashpartitioning(lei#994, 200), ENSURE_REQUIREMENTS, [plan_id=946]\n",
      "      +- HashAggregate(keys=[lei#994], functions=[partial_avg(loan_amount#1014)])\n",
      "         +- FileScan parquet spark_catalog.default.loans[lei#994,loan_amount#1014] Batched: true, Bucketed: false (bucket column(s) not read), DataFilters: [], Format: Parquet, Location: InMemoryFileIndex(1 paths)[hdfs://nn:9000/user/hive/warehouse/loans], PartitionFilters: [], PushedFilters: [], ReadSchema: struct<lei:string,loan_amount:double>\n",
      "\n",
      "\n"
     ]
    }
   ],
   "source": [
    "spark.sql(\"\"\"\n",
    "SELECT AVG(loan_amount)\n",
    "FROM loans \n",
    "GROUP BY lei\n",
    "\"\"\").explain()"
   ]
  },
  {
   "cell_type": "code",
   "execution_count": 25,
   "id": "7fe94f2c-4200-482e-94b0-932e4ed87379",
   "metadata": {},
   "outputs": [],
   "source": [
    "# Answer: Since the second query is grouped by lei and the data (loans table), is bucketed by county_code, network I/O is required.\n",
    "# You can also notice the 'exchange' line in the second query's plan, which indicates that each partition's \n",
    "# partial aggregrate (Average/mean) is being exchanged to determine the overall mean."
   ]
  },
  {
   "cell_type": "markdown",
   "id": "d984caa4-06cb-47b1-9149-3a1a58114e9d",
   "metadata": {},
   "source": [
    "# Part 4: Machine Learning"
   ]
  },
  {
   "cell_type": "code",
   "execution_count": 26,
   "id": "0a687d55-8bbb-4bee-8825-bc7578f0e874",
   "metadata": {},
   "outputs": [],
   "source": [
    "from pyspark.ml.feature import VectorAssembler\n",
    "from pyspark.ml.classification import DecisionTreeClassifier\n",
    "from pyspark.sql.functions import col, expr, when, sum, count "
   ]
  },
  {
   "cell_type": "code",
   "execution_count": 27,
   "id": "d361096d-01c0-407b-9855-c4481159fe95",
   "metadata": {},
   "outputs": [
    {
     "name": "stdout",
     "output_type": "stream",
     "text": [
      "+------------+\n",
      "|action_taken|\n",
      "+------------+\n",
      "|           6|\n",
      "|           4|\n",
      "|           6|\n",
      "|           1|\n",
      "|           1|\n",
      "|           1|\n",
      "|           1|\n",
      "|           1|\n",
      "|           1|\n",
      "|           1|\n",
      "|           1|\n",
      "|           1|\n",
      "|           1|\n",
      "|           1|\n",
      "|           1|\n",
      "|           1|\n",
      "|           1|\n",
      "|           1|\n",
      "|           1|\n",
      "|           1|\n",
      "+------------+\n",
      "only showing top 20 rows\n",
      "\n"
     ]
    }
   ],
   "source": [
    "loans_df.select([\"action_taken\"]).show()"
   ]
  },
  {
   "cell_type": "code",
   "execution_count": 28,
   "id": "345dc38a-eebf-4f3c-ba7b-b52e8dbbfdf9",
   "metadata": {},
   "outputs": [
    {
     "data": {
      "text/html": [
       "<div>\n",
       "<style scoped>\n",
       "    .dataframe tbody tr th:only-of-type {\n",
       "        vertical-align: middle;\n",
       "    }\n",
       "\n",
       "    .dataframe tbody tr th {\n",
       "        vertical-align: top;\n",
       "    }\n",
       "\n",
       "    .dataframe thead th {\n",
       "        text-align: right;\n",
       "    }\n",
       "</style>\n",
       "<table border=\"1\" class=\"dataframe\">\n",
       "  <thead>\n",
       "    <tr style=\"text-align: right;\">\n",
       "      <th></th>\n",
       "      <th>id</th>\n",
       "      <th>action_taken</th>\n",
       "    </tr>\n",
       "  </thead>\n",
       "  <tbody>\n",
       "    <tr>\n",
       "      <th>0</th>\n",
       "      <td>1</td>\n",
       "      <td>Loan originated</td>\n",
       "    </tr>\n",
       "    <tr>\n",
       "      <th>1</th>\n",
       "      <td>2</td>\n",
       "      <td>Application approved but not accepted</td>\n",
       "    </tr>\n",
       "    <tr>\n",
       "      <th>2</th>\n",
       "      <td>3</td>\n",
       "      <td>Application denied by financial institution</td>\n",
       "    </tr>\n",
       "    <tr>\n",
       "      <th>3</th>\n",
       "      <td>4</td>\n",
       "      <td>Application withdrawn by applicant</td>\n",
       "    </tr>\n",
       "    <tr>\n",
       "      <th>4</th>\n",
       "      <td>5</td>\n",
       "      <td>File closed for incompleteness</td>\n",
       "    </tr>\n",
       "    <tr>\n",
       "      <th>5</th>\n",
       "      <td>6</td>\n",
       "      <td>Loan purchased by the institution</td>\n",
       "    </tr>\n",
       "    <tr>\n",
       "      <th>6</th>\n",
       "      <td>7</td>\n",
       "      <td>Preapproval request denied by financial instit...</td>\n",
       "    </tr>\n",
       "    <tr>\n",
       "      <th>7</th>\n",
       "      <td>8</td>\n",
       "      <td>Preapproval request approved but not accepted</td>\n",
       "    </tr>\n",
       "  </tbody>\n",
       "</table>\n",
       "</div>"
      ],
      "text/plain": [
       "   id                                       action_taken\n",
       "0   1                                    Loan originated\n",
       "1   2              Application approved but not accepted\n",
       "2   3        Application denied by financial institution\n",
       "3   4                 Application withdrawn by applicant\n",
       "4   5                     File closed for incompleteness\n",
       "5   6                  Loan purchased by the institution\n",
       "6   7  Preapproval request denied by financial instit...\n",
       "7   8      Preapproval request approved but not accepted"
      ]
     },
     "execution_count": 28,
     "metadata": {},
     "output_type": "execute_result"
    }
   ],
   "source": [
    "spark.sql(\"\"\"\n",
    "SELECT *\n",
    "FROM action_taken\n",
    "limit 10\n",
    "\"\"\").toPandas()"
   ]
  },
  {
   "cell_type": "code",
   "execution_count": 29,
   "id": "eee2e21d-4fbf-4480-a2ad-78319f8d32c1",
   "metadata": {},
   "outputs": [],
   "source": [
    "#Below loan_amount and approval are already in 'double' format.\n",
    "df=spark.sql(\"\"\"\n",
    "SELECT loans.loan_amount AS loan_amount, loans.income AS income, loans.interest_rate AS interest_rate, action_taken.action_taken as approval\n",
    "FROM loans\n",
    "LEFT JOIN action_taken\n",
    "ON loans.action_taken = action_taken.id\n",
    "\"\"\")\n",
    "\n",
    "df= (\n",
    "        df\n",
    "        .withColumn(\"approval\", when(col(\"approval\") == \"Loan originated\", 1.0).otherwise(0.0))\n",
    "        #.withColumn(\"approval\", col(\"approval\").cast(\"double\"))\n",
    "        .withColumn(\"income\", col(\"income\").cast(\"double\"))\n",
    "        .withColumn(\"interest_rate\", col(\"interest_rate\").cast(\"double\"))\n",
    "        .fillna(0.0)\n",
    ")"
   ]
  },
  {
   "cell_type": "code",
   "execution_count": 30,
   "id": "9156fdfe-28cb-4223-a471-28a7b4448c84",
   "metadata": {},
   "outputs": [
    {
     "name": "stdout",
     "output_type": "stream",
     "text": [
      "+-----------+------+-------------+--------+\n",
      "|loan_amount|income|interest_rate|approval|\n",
      "+-----------+------+-------------+--------+\n",
      "|   255000.0| 210.0|          0.0|     1.0|\n",
      "|   435000.0|   0.0|        3.125|     0.0|\n",
      "|   435000.0| 190.0|          0.0|     1.0|\n",
      "|   165000.0|   0.0|         3.25|     0.0|\n",
      "|   205000.0|   0.0|          0.0|     1.0|\n",
      "|   305000.0|   0.0|          3.5|     0.0|\n",
      "|   195000.0|  43.0|         2.75|     1.0|\n",
      "|   185000.0|   0.0|          3.5|     0.0|\n",
      "|   265000.0|  93.0|         2.75|     1.0|\n",
      "|   185000.0|   0.0|         3.25|     0.0|\n",
      "|   475000.0|   0.0|        1.999|     1.0|\n",
      "|   235000.0|   0.0|         3.25|     0.0|\n",
      "|   425000.0|   0.0|          2.0|     1.0|\n",
      "|   235000.0|   0.0|         3.25|     0.0|\n",
      "|   185000.0|   0.0|         2.25|     1.0|\n",
      "|   385000.0|   0.0|          3.0|     0.0|\n",
      "|   365000.0| 321.0|        2.625|     1.0|\n",
      "|   155000.0|   0.0|          2.5|     0.0|\n",
      "|   245000.0|   0.0|         3.75|     1.0|\n",
      "|   315000.0|   0.0|          3.0|     0.0|\n",
      "+-----------+------+-------------+--------+\n",
      "only showing top 20 rows\n",
      "\n"
     ]
    }
   ],
   "source": [
    "df.show()"
   ]
  },
  {
   "cell_type": "code",
   "execution_count": 31,
   "id": "b7518603-4de6-4b96-9575-1b7ab67c8fba",
   "metadata": {},
   "outputs": [
    {
     "data": {
      "text/plain": [
       "[('loan_amount', 'double'),\n",
       " ('income', 'double'),\n",
       " ('interest_rate', 'double'),\n",
       " ('approval', 'double')]"
      ]
     },
     "execution_count": 31,
     "metadata": {},
     "output_type": "execute_result"
    }
   ],
   "source": [
    "df.dtypes"
   ]
  },
  {
   "cell_type": "code",
   "execution_count": 32,
   "id": "ef36f70c-5f6d-4eb8-9a68-53f529653500",
   "metadata": {},
   "outputs": [],
   "source": [
    "train, test = df.randomSplit([0.8, 0.2], seed=41) \n",
    "train=train.cache()"
   ]
  },
  {
   "cell_type": "code",
   "execution_count": 33,
   "id": "b3cc90d3-2782-4968-a368-05c88589f556",
   "metadata": {},
   "outputs": [],
   "source": [
    "va = VectorAssembler(inputCols=[\"loan_amount\",\"income\",\"interest_rate\"], outputCol=\"features\")"
   ]
  },
  {
   "cell_type": "code",
   "execution_count": 34,
   "id": "cf838595-0d75-4c83-9763-30e7ef570226",
   "metadata": {},
   "outputs": [
    {
     "name": "stderr",
     "output_type": "stream",
     "text": [
      "24/11/08 08:22:32 WARN DAGScheduler: Broadcasting large task binary with size 1082.7 KiB\n",
      "24/11/08 08:22:32 WARN DAGScheduler: Broadcasting large task binary with size 1375.0 KiB\n",
      "24/11/08 08:22:33 WARN DAGScheduler: Broadcasting large task binary with size 1695.8 KiB\n",
      "24/11/08 08:22:33 WARN DAGScheduler: Broadcasting large task binary with size 2.0 MiB\n",
      "24/11/08 08:22:33 WARN DAGScheduler: Broadcasting large task binary with size 2.4 MiB\n"
     ]
    }
   ],
   "source": [
    "l=[1, 5, 10, 15, 20]\n",
    "dict={}\n",
    "for i in l:\n",
    "    dt=DecisionTreeClassifier(featuresCol=\"features\", labelCol=\"approval\",maxDepth=i, seed=41)\n",
    "    model= dt.fit(va.transform(train))\n",
    "    result=model.transform(va.transform(test))\n",
    "    df_with_accuracy = result.withColumn(\"correct\", when(col(\"approval\") == col(\"prediction\"), 1).otherwise(0))\n",
    "    accuracy = df_with_accuracy.agg((sum(col(\"correct\")) / count(\"*\")).alias(\"accuracy\")).first()[\"accuracy\"]\n",
    "    dict[f\"depth={i}\"] = accuracy"
   ]
  },
  {
   "cell_type": "code",
   "execution_count": 35,
   "id": "abd18786-f7da-4608-a374-942be4b98a90",
   "metadata": {},
   "outputs": [
    {
     "data": {
      "text/plain": [
       "{'depth=1': 0.8809425750509244,\n",
       " 'depth=5': 0.8929195560947918,\n",
       " 'depth=10': 0.8954796914480349,\n",
       " 'depth=15': 0.8948674851679115,\n",
       " 'depth=20': 0.893943610236089}"
      ]
     },
     "execution_count": 35,
     "metadata": {},
     "output_type": "execute_result"
    }
   ],
   "source": [
    "#q9 Train 5 decision tree classifiers of max depth in [1, 5, 10, 15, 20], and calculate the accuracy of each on the test dataset.\n",
    "dict"
   ]
  },
  {
   "cell_type": "code",
   "execution_count": 36,
   "id": "e99a1ca5-573d-4d1c-9df8-4e78f037a23f",
   "metadata": {},
   "outputs": [],
   "source": [
    "#q10: Does the test accuracy always increase with larger value of max depth? Why or why not?\n",
    "# The test result does not always rise as the maximum depth does. \n",
    "# Accuracy on test data may eventually decline due to an overfit model caused by a higher maximum depth value."
   ]
  },
  {
   "cell_type": "code",
   "execution_count": null,
   "id": "97b0e12d-aae9-4349-871e-4c41e8c2346a",
   "metadata": {},
   "outputs": [],
   "source": []
  }
 ],
 "metadata": {
  "kernelspec": {
   "display_name": "Python 3 (ipykernel)",
   "language": "python",
   "name": "python3"
  },
  "language_info": {
   "codemirror_mode": {
    "name": "ipython",
    "version": 3
   },
   "file_extension": ".py",
   "mimetype": "text/x-python",
   "name": "python",
   "nbconvert_exporter": "python",
   "pygments_lexer": "ipython3",
   "version": "3.10.12"
  }
 },
 "nbformat": 4,
 "nbformat_minor": 5
}
