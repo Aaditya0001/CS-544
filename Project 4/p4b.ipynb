{
 "cells": [
  {
   "cell_type": "code",
   "execution_count": 3,
   "id": "f2ef79f1-257e-4609-b41c-7cd04149dd5f",
   "metadata": {},
   "outputs": [
    {
     "name": "stdout",
     "output_type": "stream",
     "text": [
      "Live datanodes (1):\n"
     ]
    }
   ],
   "source": [
    "#Q9\n",
    "! hdfs dfsadmin -fs hdfs://boss:9000 -report | grep 'Live datanodes'"
   ]
  },
  {
   "cell_type": "code",
   "execution_count": 4,
   "id": "b6b734bd-5c41-48b6-a7f2-0c76473c2476",
   "metadata": {},
   "outputs": [
    {
     "data": {
      "text/plain": [
       "9"
      ]
     },
     "execution_count": 4,
     "metadata": {},
     "output_type": "execute_result"
    }
   ],
   "source": [
    "#Q10\n",
    "import requests\n",
    "\n",
    "# Define the WebHDFS URL and parameters\n",
    "webhdfs_url = \"http://boss:9870/webhdfs/v1/single.parquet\"\n",
    "params = {\n",
    "    \"op\": \"GETFILEBLOCKLOCATIONS\",\n",
    "    \"user.name\": \"your_username\"  # Replace with your actual username\n",
    "}\n",
    "\n",
    "# Send the request to get block locations\n",
    "response = requests.get(webhdfs_url, params=params)\n",
    "block_locations = response.json()['BlockLocations']['BlockLocation']\n",
    "\n",
    "# Count lost blocks (blocks with no associated DataNodes)\n",
    "lost_blocks = sum(1 for block in block_locations if len(block['hosts']) == 0)\n",
    "lost_blocks\n"
   ]
  },
  {
   "cell_type": "code",
   "execution_count": null,
   "id": "e15ff53a-5704-40c1-929c-372743e7ae14",
   "metadata": {},
   "outputs": [],
   "source": []
  }
 ],
 "metadata": {
  "kernelspec": {
   "display_name": "Python 3 (ipykernel)",
   "language": "python",
   "name": "python3"
  },
  "language_info": {
   "codemirror_mode": {
    "name": "ipython",
    "version": 3
   },
   "file_extension": ".py",
   "mimetype": "text/x-python",
   "name": "python",
   "nbconvert_exporter": "python",
   "pygments_lexer": "ipython3",
   "version": "3.10.12"
  }
 },
 "nbformat": 4,
 "nbformat_minor": 5
}
